{
 "cells": [
  {
   "cell_type": "code",
   "execution_count": 2,
   "metadata": {},
   "outputs": [],
   "source": [
    "from qiskit_aer import AerSimulator\n",
    "from qiskit import QuantumRegister, ClassicalRegister, QuantumCircuit, transpile\n",
    "from numpy import pi\n",
    "import math\n",
    "from qiskit.visualization import plot_histogram, plot_state_city\n",
    "from qiskit.quantum_info import Statevector\n",
    "from qiskit_experiments.library import StateTomography\n",
    "from qiskit.quantum_info import DensityMatrix, partial_trace,state_fidelity,Pauli,SparsePauliOp\n",
    "from qiskit.visualization import array_to_latex\n",
    "from qiskit.quantum_info import Statevector\n",
    "import numpy as np\n"
   ]
  },
  {
   "cell_type": "code",
   "execution_count": 6,
   "metadata": {},
   "outputs": [
    {
     "name": "stdout",
     "output_type": "stream",
     "text": [
      "Negativity of qubit q2: 0.49999999999999956\n"
     ]
    }
   ],
   "source": [
    "from qiskit import QuantumCircuit, transpile\n",
    "from qiskit.quantum_info import Statevector, negativity\n",
    "\n",
    "# 創建量子電路\n",
    "qc = QuantumCircuit(3)\n",
    "qc.h(0)  # 初始態 |ψ⟩\n",
    "qc.cx(0, 1)\n",
    "qc.h(0)\n",
    "qc.cx(1, 2)\n",
    "qc.h(2)\n",
    "# qc.measure_all()\n",
    "\n",
    "# 獲得量子態的 Statevector\n",
    "state = Statevector.from_instruction(qc)\n",
    "\n",
    "# 計算 q_2 的 Negativity\n",
    "neg = negativity(state, qargs=[2])\n",
    "\n",
    "print(f\"Negativity of qubit q2: {neg}\")"
   ]
  },
  {
   "cell_type": "code",
   "execution_count": 4,
   "metadata": {},
   "outputs": [
    {
     "ename": "RequestsApiError",
     "evalue": "'403 Client Error: Forbidden for url: https://auth.quantum-computing.ibm.com/api/users/loginWithToken. Your IBM Quantum account has been disabled. Learn more: https://ibm.biz/BdfaME., Error code: 3485.'",
     "output_type": "error",
     "traceback": [
      "\u001b[0;31m---------------------------------------------------------------------------\u001b[0m",
      "\u001b[0;31mHTTPError\u001b[0m                                 Traceback (most recent call last)",
      "File \u001b[0;32m/opt/anaconda3/envs/qenv/lib/python3.11/site-packages/qiskit_ibm_runtime/api/session.py:329\u001b[0m, in \u001b[0;36mRetrySession.request\u001b[0;34m(self, method, url, bare, **kwargs)\u001b[0m\n\u001b[1;32m    328\u001b[0m     response \u001b[38;5;241m=\u001b[39m \u001b[38;5;28msuper\u001b[39m()\u001b[38;5;241m.\u001b[39mrequest(method, final_url, headers\u001b[38;5;241m=\u001b[39mheaders, \u001b[38;5;241m*\u001b[39m\u001b[38;5;241m*\u001b[39mkwargs)\n\u001b[0;32m--> 329\u001b[0m     response\u001b[38;5;241m.\u001b[39mraise_for_status()\n\u001b[1;32m    330\u001b[0m \u001b[38;5;28;01mexcept\u001b[39;00m RequestException \u001b[38;5;28;01mas\u001b[39;00m ex:\n\u001b[1;32m    331\u001b[0m     \u001b[38;5;66;03m# Wrap the requests exceptions into a IBM Q custom one, for\u001b[39;00m\n\u001b[1;32m    332\u001b[0m     \u001b[38;5;66;03m# compatibility.\u001b[39;00m\n",
      "File \u001b[0;32m/opt/anaconda3/envs/qenv/lib/python3.11/site-packages/requests/models.py:1024\u001b[0m, in \u001b[0;36mResponse.raise_for_status\u001b[0;34m(self)\u001b[0m\n\u001b[1;32m   1023\u001b[0m \u001b[38;5;28;01mif\u001b[39;00m http_error_msg:\n\u001b[0;32m-> 1024\u001b[0m     \u001b[38;5;28;01mraise\u001b[39;00m HTTPError(http_error_msg, response\u001b[38;5;241m=\u001b[39m\u001b[38;5;28mself\u001b[39m)\n",
      "\u001b[0;31mHTTPError\u001b[0m: 403 Client Error: Forbidden for url: https://auth.quantum-computing.ibm.com/api/users/loginWithToken",
      "\nThe above exception was the direct cause of the following exception:\n",
      "\u001b[0;31mRequestsApiError\u001b[0m                          Traceback (most recent call last)",
      "Cell \u001b[0;32mIn[4], line 4\u001b[0m\n\u001b[1;32m      1\u001b[0m \u001b[38;5;28;01mfrom\u001b[39;00m \u001b[38;5;21;01mqiskit_ibm_runtime\u001b[39;00m \u001b[38;5;28;01mimport\u001b[39;00m QiskitRuntimeService\n\u001b[1;32m      3\u001b[0m \u001b[38;5;66;03m# 初始化服務\u001b[39;00m\n\u001b[0;32m----> 4\u001b[0m service \u001b[38;5;241m=\u001b[39m QiskitRuntimeService()\n\u001b[1;32m      6\u001b[0m \u001b[38;5;66;03m# 加載 Job\u001b[39;00m\n\u001b[1;32m      7\u001b[0m job_id \u001b[38;5;241m=\u001b[39m \u001b[38;5;124m\"\u001b[39m\u001b[38;5;124mcxpm00gy1ae0008mxfdg\u001b[39m\u001b[38;5;124m\"\u001b[39m\n",
      "File \u001b[0;32m/opt/anaconda3/envs/qenv/lib/python3.11/site-packages/qiskit_ibm_runtime/qiskit_runtime_service.py:159\u001b[0m, in \u001b[0;36mQiskitRuntimeService.__init__\u001b[0;34m(self, channel, token, url, filename, name, instance, proxies, verify, private_endpoint, url_resolver)\u001b[0m\n\u001b[1;32m    157\u001b[0m     \u001b[38;5;28mself\u001b[39m\u001b[38;5;241m.\u001b[39m_backend_allowed_list \u001b[38;5;241m=\u001b[39m \u001b[38;5;28mself\u001b[39m\u001b[38;5;241m.\u001b[39m_discover_cloud_backends()\n\u001b[1;32m    158\u001b[0m \u001b[38;5;28;01melse\u001b[39;00m:\n\u001b[0;32m--> 159\u001b[0m     auth_client \u001b[38;5;241m=\u001b[39m \u001b[38;5;28mself\u001b[39m\u001b[38;5;241m.\u001b[39m_authenticate_ibm_quantum_account(\u001b[38;5;28mself\u001b[39m\u001b[38;5;241m.\u001b[39m_client_params)\n\u001b[1;32m    160\u001b[0m     \u001b[38;5;66;03m# Update client parameters to use authenticated values.\u001b[39;00m\n\u001b[1;32m    161\u001b[0m     \u001b[38;5;28mself\u001b[39m\u001b[38;5;241m.\u001b[39m_client_params\u001b[38;5;241m.\u001b[39murl \u001b[38;5;241m=\u001b[39m auth_client\u001b[38;5;241m.\u001b[39mcurrent_service_urls()[\u001b[38;5;124m\"\u001b[39m\u001b[38;5;124mservices\u001b[39m\u001b[38;5;124m\"\u001b[39m][\u001b[38;5;124m\"\u001b[39m\u001b[38;5;124mruntime\u001b[39m\u001b[38;5;124m\"\u001b[39m]\n",
      "File \u001b[0;32m/opt/anaconda3/envs/qenv/lib/python3.11/site-packages/qiskit_ibm_runtime/qiskit_runtime_service.py:286\u001b[0m, in \u001b[0;36mQiskitRuntimeService._authenticate_ibm_quantum_account\u001b[0;34m(self, client_params)\u001b[0m\n\u001b[1;32m    279\u001b[0m \u001b[38;5;28;01mif\u001b[39;00m \u001b[38;5;129;01mnot\u001b[39;00m version_info[\u001b[38;5;124m\"\u001b[39m\u001b[38;5;124mnew_api\u001b[39m\u001b[38;5;124m\"\u001b[39m] \u001b[38;5;129;01mor\u001b[39;00m \u001b[38;5;124m\"\u001b[39m\u001b[38;5;124mapi-auth\u001b[39m\u001b[38;5;124m\"\u001b[39m \u001b[38;5;129;01mnot\u001b[39;00m \u001b[38;5;129;01min\u001b[39;00m version_info:\n\u001b[1;32m    280\u001b[0m     \u001b[38;5;28;01mraise\u001b[39;00m IBMInputValueError(\n\u001b[1;32m    281\u001b[0m         \u001b[38;5;124m\"\u001b[39m\u001b[38;5;124mThe URL specified (\u001b[39m\u001b[38;5;132;01m{}\u001b[39;00m\u001b[38;5;124m) is not an IBM Quantum authentication URL. \u001b[39m\u001b[38;5;124m\"\u001b[39m\n\u001b[1;32m    282\u001b[0m         \u001b[38;5;124m\"\u001b[39m\u001b[38;5;124mValid authentication URL: \u001b[39m\u001b[38;5;132;01m{}\u001b[39;00m\u001b[38;5;124m.\u001b[39m\u001b[38;5;124m\"\u001b[39m\u001b[38;5;241m.\u001b[39mformat(\n\u001b[1;32m    283\u001b[0m             client_params\u001b[38;5;241m.\u001b[39murl, QISKIT_IBM_RUNTIME_API_URL\n\u001b[1;32m    284\u001b[0m         )\n\u001b[1;32m    285\u001b[0m     )\n\u001b[0;32m--> 286\u001b[0m auth_client \u001b[38;5;241m=\u001b[39m AuthClient(client_params)\n\u001b[1;32m    287\u001b[0m service_urls \u001b[38;5;241m=\u001b[39m auth_client\u001b[38;5;241m.\u001b[39mcurrent_service_urls()\n\u001b[1;32m    288\u001b[0m \u001b[38;5;28;01mif\u001b[39;00m \u001b[38;5;129;01mnot\u001b[39;00m service_urls\u001b[38;5;241m.\u001b[39mget(\u001b[38;5;124m\"\u001b[39m\u001b[38;5;124mservices\u001b[39m\u001b[38;5;124m\"\u001b[39m, {})\u001b[38;5;241m.\u001b[39mget(SERVICE_NAME):\n",
      "File \u001b[0;32m/opt/anaconda3/envs/qenv/lib/python3.11/site-packages/qiskit_ibm_runtime/api/clients/auth.py:39\u001b[0m, in \u001b[0;36mAuthClient.__init__\u001b[0;34m(self, client_params)\u001b[0m\n\u001b[1;32m     36\u001b[0m \u001b[38;5;28mself\u001b[39m\u001b[38;5;241m.\u001b[39m_service_urls \u001b[38;5;241m=\u001b[39m {}  \u001b[38;5;66;03m# type: ignore[var-annotated]\u001b[39;00m\n\u001b[1;32m     38\u001b[0m \u001b[38;5;28mself\u001b[39m\u001b[38;5;241m.\u001b[39mauth_api \u001b[38;5;241m=\u001b[39m Api(RetrySession(\u001b[38;5;28mself\u001b[39m\u001b[38;5;241m.\u001b[39mauth_url, \u001b[38;5;241m*\u001b[39m\u001b[38;5;241m*\u001b[39mclient_params\u001b[38;5;241m.\u001b[39mconnection_parameters()))\n\u001b[0;32m---> 39\u001b[0m \u001b[38;5;28mself\u001b[39m\u001b[38;5;241m.\u001b[39mbase_api \u001b[38;5;241m=\u001b[39m \u001b[38;5;28mself\u001b[39m\u001b[38;5;241m.\u001b[39m_init_service_clients(\u001b[38;5;241m*\u001b[39m\u001b[38;5;241m*\u001b[39mclient_params\u001b[38;5;241m.\u001b[39mconnection_parameters())\n",
      "File \u001b[0;32m/opt/anaconda3/envs/qenv/lib/python3.11/site-packages/qiskit_ibm_runtime/api/clients/auth.py:51\u001b[0m, in \u001b[0;36mAuthClient._init_service_clients\u001b[0;34m(self, **request_kwargs)\u001b[0m\n\u001b[1;32m     42\u001b[0m \u001b[38;5;250m\u001b[39m\u001b[38;5;124;03m\"\"\"Initialize the clients used for communicating with the API.\u001b[39;00m\n\u001b[1;32m     43\u001b[0m \n\u001b[1;32m     44\u001b[0m \u001b[38;5;124;03mArgs:\u001b[39;00m\n\u001b[0;32m   (...)\u001b[0m\n\u001b[1;32m     48\u001b[0m \u001b[38;5;124;03m    Client for the API server.\u001b[39;00m\n\u001b[1;32m     49\u001b[0m \u001b[38;5;124;03m\"\"\"\u001b[39;00m\n\u001b[1;32m     50\u001b[0m \u001b[38;5;66;03m# Request an access token.\u001b[39;00m\n\u001b[0;32m---> 51\u001b[0m \u001b[38;5;28mself\u001b[39m\u001b[38;5;241m.\u001b[39maccess_token \u001b[38;5;241m=\u001b[39m \u001b[38;5;28mself\u001b[39m\u001b[38;5;241m.\u001b[39m_request_access_token()\n\u001b[1;32m     52\u001b[0m \u001b[38;5;28mself\u001b[39m\u001b[38;5;241m.\u001b[39mauth_api\u001b[38;5;241m.\u001b[39msession\u001b[38;5;241m.\u001b[39mauth \u001b[38;5;241m=\u001b[39m QuantumAuth(access_token\u001b[38;5;241m=\u001b[39m\u001b[38;5;28mself\u001b[39m\u001b[38;5;241m.\u001b[39maccess_token)\n\u001b[1;32m     53\u001b[0m \u001b[38;5;28mself\u001b[39m\u001b[38;5;241m.\u001b[39m_service_urls \u001b[38;5;241m=\u001b[39m \u001b[38;5;28mself\u001b[39m\u001b[38;5;241m.\u001b[39muser_urls()\n",
      "File \u001b[0;32m/opt/anaconda3/envs/qenv/lib/python3.11/site-packages/qiskit_ibm_runtime/api/clients/auth.py:77\u001b[0m, in \u001b[0;36mAuthClient._request_access_token\u001b[0;34m(self)\u001b[0m\n\u001b[1;32m     67\u001b[0m \u001b[38;5;250m\u001b[39m\u001b[38;5;124;03m\"\"\"Request a new access token from the API authentication service.\u001b[39;00m\n\u001b[1;32m     68\u001b[0m \n\u001b[1;32m     69\u001b[0m \u001b[38;5;124;03mReturns:\u001b[39;00m\n\u001b[0;32m   (...)\u001b[0m\n\u001b[1;32m     74\u001b[0m \u001b[38;5;124;03m    RequestsApiError: If the request failed.\u001b[39;00m\n\u001b[1;32m     75\u001b[0m \u001b[38;5;124;03m\"\"\"\u001b[39;00m\n\u001b[1;32m     76\u001b[0m \u001b[38;5;28;01mtry\u001b[39;00m:\n\u001b[0;32m---> 77\u001b[0m     response \u001b[38;5;241m=\u001b[39m \u001b[38;5;28mself\u001b[39m\u001b[38;5;241m.\u001b[39mauth_api\u001b[38;5;241m.\u001b[39mlogin(\u001b[38;5;28mself\u001b[39m\u001b[38;5;241m.\u001b[39mapi_token)\n\u001b[1;32m     78\u001b[0m     \u001b[38;5;28;01mreturn\u001b[39;00m response[\u001b[38;5;124m\"\u001b[39m\u001b[38;5;124mid\u001b[39m\u001b[38;5;124m\"\u001b[39m]\n\u001b[1;32m     79\u001b[0m \u001b[38;5;28;01mexcept\u001b[39;00m RequestsApiError \u001b[38;5;28;01mas\u001b[39;00m ex:\n\u001b[1;32m     80\u001b[0m     \u001b[38;5;66;03m# Get the original exception that raised.\u001b[39;00m\n",
      "File \u001b[0;32m/opt/anaconda3/envs/qenv/lib/python3.11/site-packages/qiskit_ibm_runtime/api/rest/root.py:92\u001b[0m, in \u001b[0;36mApi.login\u001b[0;34m(self, api_token)\u001b[0m\n\u001b[1;32m     83\u001b[0m \u001b[38;5;250m\u001b[39m\u001b[38;5;124;03m\"\"\"Login with token.\u001b[39;00m\n\u001b[1;32m     84\u001b[0m \n\u001b[1;32m     85\u001b[0m \u001b[38;5;124;03mArgs:\u001b[39;00m\n\u001b[0;32m   (...)\u001b[0m\n\u001b[1;32m     89\u001b[0m \u001b[38;5;124;03m    JSON response.\u001b[39;00m\n\u001b[1;32m     90\u001b[0m \u001b[38;5;124;03m\"\"\"\u001b[39;00m\n\u001b[1;32m     91\u001b[0m url \u001b[38;5;241m=\u001b[39m \u001b[38;5;28mself\u001b[39m\u001b[38;5;241m.\u001b[39mget_url(\u001b[38;5;124m\"\u001b[39m\u001b[38;5;124mlogin\u001b[39m\u001b[38;5;124m\"\u001b[39m)\n\u001b[0;32m---> 92\u001b[0m \u001b[38;5;28;01mreturn\u001b[39;00m \u001b[38;5;28mself\u001b[39m\u001b[38;5;241m.\u001b[39msession\u001b[38;5;241m.\u001b[39mpost(url, json\u001b[38;5;241m=\u001b[39m{\u001b[38;5;124m\"\u001b[39m\u001b[38;5;124mapiToken\u001b[39m\u001b[38;5;124m\"\u001b[39m: api_token})\u001b[38;5;241m.\u001b[39mjson()\n",
      "File \u001b[0;32m/opt/anaconda3/envs/qenv/lib/python3.11/site-packages/requests/sessions.py:637\u001b[0m, in \u001b[0;36mSession.post\u001b[0;34m(self, url, data, json, **kwargs)\u001b[0m\n\u001b[1;32m    626\u001b[0m \u001b[38;5;28;01mdef\u001b[39;00m \u001b[38;5;21mpost\u001b[39m(\u001b[38;5;28mself\u001b[39m, url, data\u001b[38;5;241m=\u001b[39m\u001b[38;5;28;01mNone\u001b[39;00m, json\u001b[38;5;241m=\u001b[39m\u001b[38;5;28;01mNone\u001b[39;00m, \u001b[38;5;241m*\u001b[39m\u001b[38;5;241m*\u001b[39mkwargs):\n\u001b[1;32m    627\u001b[0m \u001b[38;5;250m    \u001b[39m\u001b[38;5;124mr\u001b[39m\u001b[38;5;124;03m\"\"\"Sends a POST request. Returns :class:`Response` object.\u001b[39;00m\n\u001b[1;32m    628\u001b[0m \n\u001b[1;32m    629\u001b[0m \u001b[38;5;124;03m    :param url: URL for the new :class:`Request` object.\u001b[39;00m\n\u001b[0;32m   (...)\u001b[0m\n\u001b[1;32m    634\u001b[0m \u001b[38;5;124;03m    :rtype: requests.Response\u001b[39;00m\n\u001b[1;32m    635\u001b[0m \u001b[38;5;124;03m    \"\"\"\u001b[39;00m\n\u001b[0;32m--> 637\u001b[0m     \u001b[38;5;28;01mreturn\u001b[39;00m \u001b[38;5;28mself\u001b[39m\u001b[38;5;241m.\u001b[39mrequest(\u001b[38;5;124m\"\u001b[39m\u001b[38;5;124mPOST\u001b[39m\u001b[38;5;124m\"\u001b[39m, url, data\u001b[38;5;241m=\u001b[39mdata, json\u001b[38;5;241m=\u001b[39mjson, \u001b[38;5;241m*\u001b[39m\u001b[38;5;241m*\u001b[39mkwargs)\n",
      "File \u001b[0;32m/opt/anaconda3/envs/qenv/lib/python3.11/site-packages/qiskit_ibm_runtime/api/session.py:351\u001b[0m, in \u001b[0;36mRetrySession.request\u001b[0;34m(self, method, url, bare, **kwargs)\u001b[0m\n\u001b[1;32m    349\u001b[0m     \u001b[38;5;28;01mif\u001b[39;00m status_code \u001b[38;5;241m==\u001b[39m \u001b[38;5;241m401\u001b[39m:\n\u001b[1;32m    350\u001b[0m         \u001b[38;5;28;01mraise\u001b[39;00m IBMNotAuthorizedError(message) \u001b[38;5;28;01mfrom\u001b[39;00m \u001b[38;5;21;01mex\u001b[39;00m\n\u001b[0;32m--> 351\u001b[0m     \u001b[38;5;28;01mraise\u001b[39;00m RequestsApiError(message, status_code) \u001b[38;5;28;01mfrom\u001b[39;00m \u001b[38;5;21;01mex\u001b[39;00m\n\u001b[1;32m    353\u001b[0m \u001b[38;5;28;01mreturn\u001b[39;00m response\n",
      "\u001b[0;31mRequestsApiError\u001b[0m: '403 Client Error: Forbidden for url: https://auth.quantum-computing.ibm.com/api/users/loginWithToken. Your IBM Quantum account has been disabled. Learn more: https://ibm.biz/BdfaME., Error code: 3485.'"
     ]
    }
   ],
   "source": [
    "from qiskit_ibm_runtime import QiskitRuntimeService\n",
    "\n",
    "# 初始化服務\n",
    "service = QiskitRuntimeService()\n",
    "\n",
    "# 加載 Job\n",
    "job_id = \"cxpm00gy1ae0008mxfdg\"\n",
    "job = service.job(job_id)\n",
    "\n",
    "# 檢查 Job 狀態\n",
    "print(\"Job 狀態:\", job.status())\n",
    "\n",
    "# 檢查是否有結果\n",
    "if job.status().name == \"COMPLETED\":\n",
    "    result = job.result()\n",
    "    print(\"結果已成功加載\")\n",
    "else:\n",
    "    print(\"Job 尚未完成，無法提取結果\")"
   ]
  },
  {
   "cell_type": "code",
   "execution_count": 3,
   "metadata": {},
   "outputs": [],
   "source": [
    "from qiskit_ibm_runtime import QiskitRuntimeService\n",
    "\n",
    "service = QiskitRuntimeService(\n",
    "    channel='ibm_quantum',\n",
    "    instance='ibm-q/open/main',\n",
    "    token='3cf0fe1ffee5e23249070e9f0dff02f52702e0a20d143908e40bda826e93de2e1066929c5a2ee2b3c1427616b534d26f67daa67b508098fd253793783e702132'\n",
    ")\n",
    "job = service.job('cxpm00gy1ae0008mxfdg')\n",
    "job_result = job.result()\n",
    "\n",
    "# To get counts for a particular pub result, use \n",
    "#\n",
    "# pub_result = job_result[<idx>].data.<classical register>.get_counts()\n",
    "#\n",
    "# where <idx> is the index of the pub and <classical register> is the name of the classical register. \n",
    "# You can use circuit.cregs to find the name of the classical registers."
   ]
  },
  {
   "cell_type": "code",
   "execution_count": 9,
   "metadata": {},
   "outputs": [
    {
     "data": {
      "text/plain": [
       "PrimitiveResult([SamplerPubResult(data=DataBin(c=BitArray(<shape=(), num_shots=4096, num_bits=1>), c_tomo=BitArray(<shape=(), num_shots=4096, num_bits=3>)), metadata={'circuit_metadata': {'clbits': [1, 2, 3], 'cond_clbits': None, 'm_idx': [0, 0, 0]}}), SamplerPubResult(data=DataBin(c=BitArray(<shape=(), num_shots=4096, num_bits=1>), c_tomo=BitArray(<shape=(), num_shots=4096, num_bits=3>)), metadata={'circuit_metadata': {'clbits': [1, 2, 3], 'cond_clbits': None, 'm_idx': [0, 0, 1]}}), SamplerPubResult(data=DataBin(c=BitArray(<shape=(), num_shots=4096, num_bits=1>), c_tomo=BitArray(<shape=(), num_shots=4096, num_bits=3>)), metadata={'circuit_metadata': {'clbits': [1, 2, 3], 'cond_clbits': None, 'm_idx': [0, 0, 2]}}), SamplerPubResult(data=DataBin(c=BitArray(<shape=(), num_shots=4096, num_bits=1>), c_tomo=BitArray(<shape=(), num_shots=4096, num_bits=3>)), metadata={'circuit_metadata': {'clbits': [1, 2, 3], 'cond_clbits': None, 'm_idx': [0, 1, 0]}}), SamplerPubResult(data=DataBin(c=BitArray(<shape=(), num_shots=4096, num_bits=1>), c_tomo=BitArray(<shape=(), num_shots=4096, num_bits=3>)), metadata={'circuit_metadata': {'clbits': [1, 2, 3], 'cond_clbits': None, 'm_idx': [0, 1, 1]}}), SamplerPubResult(data=DataBin(c=BitArray(<shape=(), num_shots=4096, num_bits=1>), c_tomo=BitArray(<shape=(), num_shots=4096, num_bits=3>)), metadata={'circuit_metadata': {'clbits': [1, 2, 3], 'cond_clbits': None, 'm_idx': [0, 1, 2]}}), SamplerPubResult(data=DataBin(c=BitArray(<shape=(), num_shots=4096, num_bits=1>), c_tomo=BitArray(<shape=(), num_shots=4096, num_bits=3>)), metadata={'circuit_metadata': {'clbits': [1, 2, 3], 'cond_clbits': None, 'm_idx': [0, 2, 0]}}), SamplerPubResult(data=DataBin(c=BitArray(<shape=(), num_shots=4096, num_bits=1>), c_tomo=BitArray(<shape=(), num_shots=4096, num_bits=3>)), metadata={'circuit_metadata': {'clbits': [1, 2, 3], 'cond_clbits': None, 'm_idx': [0, 2, 1]}}), SamplerPubResult(data=DataBin(c=BitArray(<shape=(), num_shots=4096, num_bits=1>), c_tomo=BitArray(<shape=(), num_shots=4096, num_bits=3>)), metadata={'circuit_metadata': {'clbits': [1, 2, 3], 'cond_clbits': None, 'm_idx': [0, 2, 2]}}), SamplerPubResult(data=DataBin(c=BitArray(<shape=(), num_shots=4096, num_bits=1>), c_tomo=BitArray(<shape=(), num_shots=4096, num_bits=3>)), metadata={'circuit_metadata': {'clbits': [1, 2, 3], 'cond_clbits': None, 'm_idx': [1, 0, 0]}}), SamplerPubResult(data=DataBin(c=BitArray(<shape=(), num_shots=4096, num_bits=1>), c_tomo=BitArray(<shape=(), num_shots=4096, num_bits=3>)), metadata={'circuit_metadata': {'clbits': [1, 2, 3], 'cond_clbits': None, 'm_idx': [1, 0, 1]}}), SamplerPubResult(data=DataBin(c=BitArray(<shape=(), num_shots=4096, num_bits=1>), c_tomo=BitArray(<shape=(), num_shots=4096, num_bits=3>)), metadata={'circuit_metadata': {'clbits': [1, 2, 3], 'cond_clbits': None, 'm_idx': [1, 0, 2]}}), SamplerPubResult(data=DataBin(c=BitArray(<shape=(), num_shots=4096, num_bits=1>), c_tomo=BitArray(<shape=(), num_shots=4096, num_bits=3>)), metadata={'circuit_metadata': {'clbits': [1, 2, 3], 'cond_clbits': None, 'm_idx': [1, 1, 0]}}), SamplerPubResult(data=DataBin(c=BitArray(<shape=(), num_shots=4096, num_bits=1>), c_tomo=BitArray(<shape=(), num_shots=4096, num_bits=3>)), metadata={'circuit_metadata': {'clbits': [1, 2, 3], 'cond_clbits': None, 'm_idx': [1, 1, 1]}}), SamplerPubResult(data=DataBin(c=BitArray(<shape=(), num_shots=4096, num_bits=1>), c_tomo=BitArray(<shape=(), num_shots=4096, num_bits=3>)), metadata={'circuit_metadata': {'clbits': [1, 2, 3], 'cond_clbits': None, 'm_idx': [1, 1, 2]}}), SamplerPubResult(data=DataBin(c=BitArray(<shape=(), num_shots=4096, num_bits=1>), c_tomo=BitArray(<shape=(), num_shots=4096, num_bits=3>)), metadata={'circuit_metadata': {'clbits': [1, 2, 3], 'cond_clbits': None, 'm_idx': [1, 2, 0]}}), SamplerPubResult(data=DataBin(c=BitArray(<shape=(), num_shots=4096, num_bits=1>), c_tomo=BitArray(<shape=(), num_shots=4096, num_bits=3>)), metadata={'circuit_metadata': {'clbits': [1, 2, 3], 'cond_clbits': None, 'm_idx': [1, 2, 1]}}), SamplerPubResult(data=DataBin(c=BitArray(<shape=(), num_shots=4096, num_bits=1>), c_tomo=BitArray(<shape=(), num_shots=4096, num_bits=3>)), metadata={'circuit_metadata': {'clbits': [1, 2, 3], 'cond_clbits': None, 'm_idx': [1, 2, 2]}}), SamplerPubResult(data=DataBin(c=BitArray(<shape=(), num_shots=4096, num_bits=1>), c_tomo=BitArray(<shape=(), num_shots=4096, num_bits=3>)), metadata={'circuit_metadata': {'clbits': [1, 2, 3], 'cond_clbits': None, 'm_idx': [2, 0, 0]}}), SamplerPubResult(data=DataBin(c=BitArray(<shape=(), num_shots=4096, num_bits=1>), c_tomo=BitArray(<shape=(), num_shots=4096, num_bits=3>)), metadata={'circuit_metadata': {'clbits': [1, 2, 3], 'cond_clbits': None, 'm_idx': [2, 0, 1]}}), SamplerPubResult(data=DataBin(c=BitArray(<shape=(), num_shots=4096, num_bits=1>), c_tomo=BitArray(<shape=(), num_shots=4096, num_bits=3>)), metadata={'circuit_metadata': {'clbits': [1, 2, 3], 'cond_clbits': None, 'm_idx': [2, 0, 2]}}), SamplerPubResult(data=DataBin(c=BitArray(<shape=(), num_shots=4096, num_bits=1>), c_tomo=BitArray(<shape=(), num_shots=4096, num_bits=3>)), metadata={'circuit_metadata': {'clbits': [1, 2, 3], 'cond_clbits': None, 'm_idx': [2, 1, 0]}}), SamplerPubResult(data=DataBin(c=BitArray(<shape=(), num_shots=4096, num_bits=1>), c_tomo=BitArray(<shape=(), num_shots=4096, num_bits=3>)), metadata={'circuit_metadata': {'clbits': [1, 2, 3], 'cond_clbits': None, 'm_idx': [2, 1, 1]}}), SamplerPubResult(data=DataBin(c=BitArray(<shape=(), num_shots=4096, num_bits=1>), c_tomo=BitArray(<shape=(), num_shots=4096, num_bits=3>)), metadata={'circuit_metadata': {'clbits': [1, 2, 3], 'cond_clbits': None, 'm_idx': [2, 1, 2]}}), SamplerPubResult(data=DataBin(c=BitArray(<shape=(), num_shots=4096, num_bits=1>), c_tomo=BitArray(<shape=(), num_shots=4096, num_bits=3>)), metadata={'circuit_metadata': {'clbits': [1, 2, 3], 'cond_clbits': None, 'm_idx': [2, 2, 0]}}), SamplerPubResult(data=DataBin(c=BitArray(<shape=(), num_shots=4096, num_bits=1>), c_tomo=BitArray(<shape=(), num_shots=4096, num_bits=3>)), metadata={'circuit_metadata': {'clbits': [1, 2, 3], 'cond_clbits': None, 'm_idx': [2, 2, 1]}}), SamplerPubResult(data=DataBin(c=BitArray(<shape=(), num_shots=4096, num_bits=1>), c_tomo=BitArray(<shape=(), num_shots=4096, num_bits=3>)), metadata={'circuit_metadata': {'clbits': [1, 2, 3], 'cond_clbits': None, 'm_idx': [2, 2, 2]}})], metadata={'execution': {'execution_spans': ExecutionSpans([SliceSpan(<start='2024-12-26 12:08:26', stop='2024-12-26 12:09:20', size=110592>)])}, 'version': 2})"
      ]
     },
     "execution_count": 9,
     "metadata": {},
     "output_type": "execute_result"
    }
   ],
   "source": [
    "job_result"
   ]
  },
  {
   "cell_type": "code",
   "execution_count": 8,
   "metadata": {},
   "outputs": [
    {
     "name": "stderr",
     "output_type": "stream",
     "text": [
      "/var/folders/q7/yqdshzpn1cldw00fh35ldgcc0000gn/T/ipykernel_9650/1063392933.py:1: DeprecationWarning: The qiskit.ignis package is deprecated and has been supersceded by the qiskit-experiments project. Refer to the migration guide: https://github.com/Qiskit/qiskit-ignis#migration-guide on how to migrate to the new project.\n",
      "  from qiskit.ignis.verification import StateTomographyFitter\n"
     ]
    },
    {
     "ename": "ImportError",
     "evalue": "cannot import name 'execute' from 'qiskit' (/opt/anaconda3/lib/python3.12/site-packages/qiskit/__init__.py)",
     "output_type": "error",
     "traceback": [
      "\u001b[0;31m---------------------------------------------------------------------------\u001b[0m",
      "\u001b[0;31mImportError\u001b[0m                               Traceback (most recent call last)",
      "Cell \u001b[0;32mIn[8], line 1\u001b[0m\n\u001b[0;32m----> 1\u001b[0m \u001b[38;5;28;01mfrom\u001b[39;00m \u001b[38;5;21;01mqiskit\u001b[39;00m\u001b[38;5;21;01m.\u001b[39;00m\u001b[38;5;21;01mignis\u001b[39;00m\u001b[38;5;21;01m.\u001b[39;00m\u001b[38;5;21;01mverification\u001b[39;00m \u001b[38;5;28;01mimport\u001b[39;00m StateTomographyFitter\n\u001b[1;32m      3\u001b[0m \u001b[38;5;66;03m# 假設您有與結果匹配的層析電路\u001b[39;00m\n\u001b[1;32m      4\u001b[0m fitter \u001b[38;5;241m=\u001b[39m StateTomographyFitter(job_result, qstexp1\u001b[38;5;241m.\u001b[39mcircuits)\n",
      "File \u001b[0;32m/opt/anaconda3/lib/python3.12/site-packages/qiskit/ignis/verification/__init__.py:125\u001b[0m\n\u001b[1;32m    117\u001b[0m \u001b[38;5;28;01mfrom\u001b[39;00m \u001b[38;5;21;01m.\u001b[39;00m\u001b[38;5;21;01mquantum_volume\u001b[39;00m \u001b[38;5;28;01mimport\u001b[39;00m qv_circuits, QVFitter\n\u001b[1;32m    118\u001b[0m \u001b[38;5;28;01mfrom\u001b[39;00m \u001b[38;5;21;01m.\u001b[39;00m\u001b[38;5;21;01mrandomized_benchmarking\u001b[39;00m \u001b[38;5;28;01mimport\u001b[39;00m (randomized_benchmarking_seq,\n\u001b[1;32m    119\u001b[0m                                       RBFitter, InterleavedRBFitter,\n\u001b[1;32m    120\u001b[0m                                       PurityRBFitter, CNOTDihedralRBFitter,\n\u001b[0;32m   (...)\u001b[0m\n\u001b[1;32m    123\u001b[0m                                       calculate_1q_epg, calculate_2q_epg,\n\u001b[1;32m    124\u001b[0m                                       calculate_1q_epc, calculate_2q_epc)\n\u001b[0;32m--> 125\u001b[0m \u001b[38;5;28;01mfrom\u001b[39;00m \u001b[38;5;21;01m.\u001b[39;00m\u001b[38;5;21;01mtopological_codes\u001b[39;00m \u001b[38;5;28;01mimport\u001b[39;00m (RepetitionCode, GraphDecoder,\n\u001b[1;32m    126\u001b[0m                                 lookuptable_decoding,\n\u001b[1;32m    127\u001b[0m                                 postselection_decoding)\n\u001b[1;32m    128\u001b[0m \u001b[38;5;28;01mfrom\u001b[39;00m \u001b[38;5;21;01m.\u001b[39;00m\u001b[38;5;21;01mtomography\u001b[39;00m \u001b[38;5;28;01mimport\u001b[39;00m (state_tomography_circuits,\n\u001b[1;32m    129\u001b[0m                          process_tomography_circuits,\n\u001b[1;32m    130\u001b[0m                          gateset_tomography_circuits, basis,\n\u001b[0;32m   (...)\u001b[0m\n\u001b[1;32m    135\u001b[0m                          marginal_counts, combine_counts,\n\u001b[1;32m    136\u001b[0m                          expectation_counts, count_keys)\n\u001b[1;32m    137\u001b[0m \u001b[38;5;28;01mfrom\u001b[39;00m \u001b[38;5;21;01m.\u001b[39;00m\u001b[38;5;21;01maccreditation\u001b[39;00m \u001b[38;5;28;01mimport\u001b[39;00m (AccreditationCircuits,\n\u001b[1;32m    138\u001b[0m                             AccreditationFitter,\n\u001b[1;32m    139\u001b[0m                             QOTP,\n\u001b[1;32m    140\u001b[0m                             QOTPCorrectCounts,\n\u001b[1;32m    141\u001b[0m                             QOTPCorrectString)\n",
      "File \u001b[0;32m/opt/anaconda3/lib/python3.12/site-packages/qiskit/ignis/verification/topological_codes/__init__.py:21\u001b[0m\n\u001b[1;32m     16\u001b[0m \u001b[38;5;124;03m\"\"\"\u001b[39;00m\n\u001b[1;32m     17\u001b[0m \u001b[38;5;124;03mError correction benchmarking module\u001b[39;00m\n\u001b[1;32m     18\u001b[0m \u001b[38;5;124;03m\"\"\"\u001b[39;00m\n\u001b[1;32m     20\u001b[0m \u001b[38;5;28;01mfrom\u001b[39;00m \u001b[38;5;21;01m.\u001b[39;00m\u001b[38;5;21;01mcircuits\u001b[39;00m \u001b[38;5;28;01mimport\u001b[39;00m RepetitionCode\n\u001b[0;32m---> 21\u001b[0m \u001b[38;5;28;01mfrom\u001b[39;00m \u001b[38;5;21;01m.\u001b[39;00m\u001b[38;5;21;01mfitters\u001b[39;00m \u001b[38;5;28;01mimport\u001b[39;00m GraphDecoder\n\u001b[1;32m     22\u001b[0m \u001b[38;5;28;01mfrom\u001b[39;00m \u001b[38;5;21;01m.\u001b[39;00m\u001b[38;5;21;01mfitters\u001b[39;00m \u001b[38;5;28;01mimport\u001b[39;00m lookuptable_decoding\n\u001b[1;32m     23\u001b[0m \u001b[38;5;28;01mfrom\u001b[39;00m \u001b[38;5;21;01m.\u001b[39;00m\u001b[38;5;21;01mfitters\u001b[39;00m \u001b[38;5;28;01mimport\u001b[39;00m postselection_decoding\n",
      "File \u001b[0;32m/opt/anaconda3/lib/python3.12/site-packages/qiskit/ignis/verification/topological_codes/fitters.py:27\u001b[0m\n\u001b[1;32m     24\u001b[0m \u001b[38;5;28;01mimport\u001b[39;00m \u001b[38;5;21;01mretworkx\u001b[39;00m \u001b[38;5;28;01mas\u001b[39;00m \u001b[38;5;21;01mrx\u001b[39;00m\n\u001b[1;32m     25\u001b[0m \u001b[38;5;28;01mimport\u001b[39;00m \u001b[38;5;21;01mnumpy\u001b[39;00m \u001b[38;5;28;01mas\u001b[39;00m \u001b[38;5;21;01mnp\u001b[39;00m\n\u001b[0;32m---> 27\u001b[0m \u001b[38;5;28;01mfrom\u001b[39;00m \u001b[38;5;21;01mqiskit\u001b[39;00m \u001b[38;5;28;01mimport\u001b[39;00m QuantumCircuit, execute\n\u001b[1;32m     29\u001b[0m \u001b[38;5;28;01mtry\u001b[39;00m:\n\u001b[1;32m     30\u001b[0m     \u001b[38;5;28;01mfrom\u001b[39;00m \u001b[38;5;21;01mqiskit\u001b[39;00m\u001b[38;5;21;01m.\u001b[39;00m\u001b[38;5;21;01mproviders\u001b[39;00m\u001b[38;5;21;01m.\u001b[39;00m\u001b[38;5;21;01maer\u001b[39;00m \u001b[38;5;28;01mimport\u001b[39;00m Aer\n",
      "\u001b[0;31mImportError\u001b[0m: cannot import name 'execute' from 'qiskit' (/opt/anaconda3/lib/python3.12/site-packages/qiskit/__init__.py)"
     ]
    }
   ],
   "source": [
    "from qiskit.ignis.verification import StateTomographyFitter\n",
    "\n",
    "# 假設您有與結果匹配的層析電路\n",
    "fitter = StateTomographyFitter(job_result, qstexp1.circuits)\n",
    "density_matrix = fitter.fit(method='lstsq')  # 使用最小二乘法擬合\n",
    "\n",
    "print(\"重建的密度矩陣:\")\n",
    "print(density_matrix)"
   ]
  },
  {
   "cell_type": "code",
   "execution_count": 5,
   "metadata": {},
   "outputs": [
    {
     "ename": "AttributeError",
     "evalue": "'PrimitiveResult' object has no attribute 'analysis_results'",
     "output_type": "error",
     "traceback": [
      "\u001b[0;31m---------------------------------------------------------------------------\u001b[0m",
      "\u001b[0;31mAttributeError\u001b[0m                            Traceback (most recent call last)",
      "Cell \u001b[0;32mIn[5], line 2\u001b[0m\n\u001b[1;32m      1\u001b[0m \u001b[38;5;66;03m# 獲取量子態層析分析結果\u001b[39;00m\n\u001b[0;32m----> 2\u001b[0m \u001b[38;5;28;01mfor\u001b[39;00m result \u001b[38;5;129;01min\u001b[39;00m job_result\u001b[38;5;241m.\u001b[39manalysis_results():\n\u001b[1;32m      3\u001b[0m     \u001b[38;5;28mprint\u001b[39m(result)\n",
      "\u001b[0;31mAttributeError\u001b[0m: 'PrimitiveResult' object has no attribute 'analysis_results'"
     ]
    }
   ],
   "source": [
    "# 獲取量子態層析分析結果\n",
    "for result in job_result.analysis_results():\n",
    "    print(result)"
   ]
  },
  {
   "cell_type": "code",
   "execution_count": 2,
   "metadata": {},
   "outputs": [],
   "source": [
    "Q = SparsePauliOp([\"Z\"])\n",
    "R = SparsePauliOp([\"X\"])\n",
    "\n",
    "S = SparsePauliOp([\"Z\", \"X\"], coeffs=[-1/np.sqrt(2), -1/np.sqrt(2)])\n",
    "T = SparsePauliOp([\"Z\", \"X\"], coeffs=[1/np.sqrt(2), -1/np.sqrt(2)])"
   ]
  },
  {
   "cell_type": "code",
   "execution_count": 3,
   "metadata": {},
   "outputs": [],
   "source": [
    "QS = Q.tensor(S)  # Q ⊗ S\n",
    "RS = R.tensor(S)  # R ⊗ S\n",
    "RT = R.tensor(T)  # R ⊗ T\n",
    "QT = Q.tensor(T)  # Q ⊗ T"
   ]
  },
  {
   "cell_type": "code",
   "execution_count": 4,
   "metadata": {},
   "outputs": [],
   "source": [
    "# psi = Statevector([0.5,0.5j,-0.5,-0.5j])\n",
    "psi = Statevector([1/np.sqrt(2),0,0,-1/np.sqrt(2)])"
   ]
  },
  {
   "cell_type": "code",
   "execution_count": 5,
   "metadata": {},
   "outputs": [
    {
     "name": "stdout",
     "output_type": "stream",
     "text": [
      "⟨QS⟩ = (-0.7071067811865474+0j)\n",
      "⟨RS⟩ = (0.7071067811865474+0j)\n",
      "⟨RT⟩ = (0.7071067811865474+0j)\n",
      "⟨QT⟩ = (0.7071067811865474+0j)\n",
      "CHSH value = 0j\n"
     ]
    }
   ],
   "source": [
    "qs_expectation = psi.expectation_value(QS)\n",
    "rs_expectation = psi.expectation_value(RS)\n",
    "rt_expectation = psi.expectation_value(RT)\n",
    "qt_expectation = psi.expectation_value(QT)\n",
    "\n",
    "CHSH_value = qs_expectation + rs_expectation + rt_expectation - qt_expectation\n",
    "\n",
    "print(\"⟨QS⟩ =\", qs_expectation)\n",
    "print(\"⟨RS⟩ =\", rs_expectation)\n",
    "print(\"⟨RT⟩ =\", rt_expectation)\n",
    "print(\"⟨QT⟩ =\", qt_expectation)\n",
    "print(\"CHSH value =\", CHSH_value)"
   ]
  },
  {
   "cell_type": "code",
   "execution_count": 6,
   "metadata": {},
   "outputs": [
    {
     "data": {
      "text/plain": [
       "complex"
      ]
     },
     "execution_count": 6,
     "metadata": {},
     "output_type": "execute_result"
    }
   ],
   "source": [
    "a=1j\n",
    "type(a)"
   ]
  },
  {
   "cell_type": "code",
   "execution_count": null,
   "metadata": {},
   "outputs": [],
   "source": []
  }
 ],
 "metadata": {
  "kernelspec": {
   "display_name": "base",
   "language": "python",
   "name": "python3"
  },
  "language_info": {
   "codemirror_mode": {
    "name": "ipython",
    "version": 3
   },
   "file_extension": ".py",
   "mimetype": "text/x-python",
   "name": "python",
   "nbconvert_exporter": "python",
   "pygments_lexer": "ipython3",
   "version": "3.11.9"
  }
 },
 "nbformat": 4,
 "nbformat_minor": 2
}
